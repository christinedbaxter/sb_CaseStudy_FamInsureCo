{
 "cells": [
  {
   "cell_type": "markdown",
   "metadata": {},
   "source": [
    "<h2><b style=\"color:teal\"> Welcome to the FamInsureCo Python Case Study! </b></h2>"
   ]
  },
  {
   "cell_type": "markdown",
   "metadata": {},
   "source": [
    "<img src = ./LL-INSURANCE-LOGO1.png>"
   ]
  },
  {
   "cell_type": "markdown",
   "metadata": {},
   "source": [
    "While working on the Statistics unit, you used Microsoft Excel's data analytics capabilities to analyze FamInsureCo's Data\n",
    "\n",
    "You might have realised that whilst Excel is powerful, it was a bit tricky creating Box Plots, multiple line plots and in general, doing quick analysis in Excel. You had to use a lot of filters to subset the data, which, then provided your charts were linked, created a number of issues with your other visuals.\n",
    "\n",
    "In this Case Study, we're going to *revisit* the FamInsureCo Case Study, but with a few added questions that will really emphasise how Python can speed up our analysis and improve our data visualisation capabilities! \n",
    "\n",
    "\n",
    "**Please note that this case study is composed of two parts** — once you have completed part 1, which involves descriptive statistics, please submit your work and discuss it with your mentor <u>before</u> moving on to part 2. \n",
    "\n",
    "Let's get started! "
   ]
  },
  {
   "cell_type": "markdown",
   "metadata": {},
   "source": [
    "<h2><b style=\"color:teal\">Descriptive Statistics</b></h2>"
   ]
  },
  {
   "cell_type": "markdown",
   "metadata": {},
   "source": [
    "### Step 1: <span style=\"color:teal\">Import Libraries</span> \n",
    "\n",
    "Import the libraries you'll need for your analysis. You will need the following libraries: \n",
    "\n",
    "**Matplotlib** - This is Python's basic plotting library.\n",
    "You'll use the pyplot and dates function collections from matplotlib throughout this case study so we encourage you to important these two specific libraries with their own aliases. \n",
    "\n",
    "**Seaborn** - This library will enable you to create aesthetically pleasing plots.\n",
    "\n",
    "**Pandas** - This library will enable you to view and manipulate your data in a tabular format.\n",
    "\n",
    "**statsmodels.api** - This library will enable you to create statistical models. You will need this library when performing regession analysis in Part 2 of this case study.\n",
    "\n",
    "Please note we've included the `mpl.rcParams['figure'figsize']` code for you.\n",
    "\n",
    "This code controls how big your charts will be with the syntax of (X,Y) where X represents the X Axis and Y, the Y Axis."
   ]
  },
  {
   "cell_type": "markdown",
   "metadata": {},
   "source": [
    "<h2><b style=\"color:salmon\"> Place your code here </b> </h2>"
   ]
  },
  {
   "cell_type": "code",
   "execution_count": null,
   "metadata": {},
   "outputs": [],
   "source": [
    "# Import libraries\n",
    "import matplotlib as mpl\n",
    "import numpy as np\n",
    "import matplotlib.pyplot as plt \n",
    "%matplotlib inline\n",
    "import seaborn as sns\n",
    "import pandas as pd\n",
    "import statsmodels.api as sm\n",
    "sns.set_style(\"darkgrid\")\n",
    "mpl.rcParams['figure.figsize'] = (20,5)"
   ]
  },
  {
   "cell_type": "markdown",
   "metadata": {},
   "source": [
    "\n",
    "### Step 2: <span style=\"color:teal\">Descriptive Statistics</span> \n",
    "The data you'll need to complete the FamInsureCo Case Study is stored in the `.csv` file titled; `FamInsureCo.csv`.\n",
    "\n",
    "<b> Please complete the following below: </b>\n",
    "\n",
    "i. Import the `FamInsureCo.csv` dataset and store this in a dataframe titled, `FamInsureCo_Data`. \n",
    "\n",
    "ii. Referencing the `FamInsureCo_Data dataframe` you created, use the `.describe()` method to print out the Summary Statistics for the dataframe.\n",
    "\n",
    "What do you observe? "
   ]
  },
  {
   "cell_type": "markdown",
   "metadata": {},
   "source": [
    "<h2><b style=\"color:salmon\"> Place your code here </b> </h2>"
   ]
  },
  {
   "cell_type": "code",
   "execution_count": null,
   "metadata": {},
   "outputs": [],
   "source": [
    "# Import data\n",
    "FamInsureCo_Data = pd.read_csv('FamInsureCo_OLS_Case_Study.csv')\n",
    "\n",
    "# View summary stats\n",
    "FamInsureCo_Data.describe()"
   ]
  },
  {
   "cell_type": "markdown",
   "metadata": {},
   "source": [
    "### Observations:\n",
    "\n",
    "#### 1. **Age**: \n",
    "   - **Dataset Size**: The dataset has 1,338 records.\n",
    "   - **Average**: The average age is approximately 39.2 years.\n",
    "   - **Range**: The age range is from 18 to 64, indicating a fairly wide range of age groups.\n",
    "   - **Standard Deviation**: The standard deviation is around 14, suggesting moderate variability in age among the sample.\n",
    "   - **Median**: The median (50th percentile) is 39, closely matching the mean, suggesting a somewhat symmetrical distribution.\n",
    "\n",
    "#### 2. **BMI**:\n",
    "   - **Average**: The average BMI is around 30.7, which is generally considered to be in the \"overweight\" category.\n",
    "   - **Range**: The BMI ranges from a minimum of 15.96 to a maximum of 53.13, indicating a wide range of body weights and sizes.\n",
    "   - **Standard Deviation**: The standard deviation of about 6.1 shows moderate variability in BMI among the sample.\n",
    "   - **Median**: The median is 30.4, closely aligned with the mean, suggesting that the data may be approximately symmetric.\n",
    "\n",
    "#### 3. **Medical Insurance Charges**:\n",
    "   - **Average**: The average medical insurance charge is approximately $13,270.42.\n",
    "   - **Range**: The charges vary widely, ranging from $1,121.87 to $63,770.43.\n",
    "   - **Standard Deviation**: The standard deviation is high (~$12,110), indicating a substantial degree of variability in charges.\n",
    "   - **Median**: The median is $9,382.03, which is significantly lower than the mean. This could suggest that the distribution is skewed to the right, with a few very high charges pulling the mean upwards.\n",
    "   - **Skewness**: The 75th percentile is substantially higher than the median, further suggesting a right-skewed distribution.\n",
    "\n",
    "---\n",
    "\n",
    "### Summary:\n",
    "\n",
    "- **Age**: The age distribution seems fairly balanced, with a moderate range and variability.\n",
    "- **BMI**: The BMI data suggests that the sample population tends to be on the heavier side.\n",
    "- **Medical Insurance Charges**: Medical insurance charges show a high degree of variability and are likely right-skewed, meaning there are some exceptionally high charges.\n",
    "\n",
    "---"
   ]
  },
  {
   "cell_type": "markdown",
   "metadata": {},
   "source": [
    "### Step 3: <span style=\"color:teal\">Create a Single Scatter Plot </span> \n",
    "\n",
    "Previously, when we kicked off our analysis in Excel, we started with some Scatter Plots.\n",
    "\n",
    "As a quick refresher, scatter plots are a useful way to compare two variables and determining whether any relationship might exist between them. We've included an example below of what this looks like to jog your memory.\n",
    "\n",
    "<img src = \"https://seaborn.pydata.org/_images/scatterplot_3_0.png\"> \n",
    "\n",
    "i) Create a Scatter Plot highlighting the Medical Insurance Costs (Y-Axis) against the Body mass Index (X-Axis) using the `FamInsureCo` dataframe you created earlier. \n",
    "\n",
    "<b> Hint: You might find <a href = \"https://seaborn.pydata.org/generated/seaborn.scatterplot.html\"> this</a> link helpful! </b>"
   ]
  },
  {
   "cell_type": "markdown",
   "metadata": {},
   "source": [
    "<h2><b style=\"color:salmon\"> Place your code here </b> </h2>\n"
   ]
  },
  {
   "cell_type": "code",
   "execution_count": null,
   "metadata": {},
   "outputs": [],
   "source": [
    "# Create Scatter Plot\n",
    "sns.scatterplot(x='bmi', y='medical_insurance_charges', data=FamInsureCo_Data)\n",
    "plt.title('Scatter Plot of Medical Insurance Costs vs. BMI')\n",
    "plt.xlabel('Body Mass Index (BMI)')\n",
    "plt.ylabel('Medical Insurance Charges ($)')\n",
    "plt.show()"
   ]
  },
  {
   "cell_type": "markdown",
   "metadata": {},
   "source": [
    "The scatter plot depicts the relationship between Body Mass Index (BMI) and Medical Insurance Charges. Here are a few observations:\n",
    "\n",
    "1. **Positive Correlation**: Generally, there appears to be a positive correlation between BMI and medical insurance charges. As BMI increases, the medical insurance charges also seem to rise.\n",
    "2. **Outliers**: There are a few points that stand out, particularly at higher charges. These could be cases with additional health complications that drive up insurance costs.\n",
    "3. **Cluster Zones**: Two distinct clusters are visible in the plot — one around the lower medical charges and another at the higher end of medical charges. This could indicate that other factors, like smoking status, might be affecting the insurance charges as well."
   ]
  },
  {
   "cell_type": "markdown",
   "metadata": {},
   "source": [
    "### Step 4: <span style=\"color:teal\"> Multiple Classifications in a Scatter Plot</span> \n"
   ]
  },
  {
   "cell_type": "markdown",
   "metadata": {},
   "source": [
    "Previously, you would have recalled how you had to create a 'hacky' workaround to get multiple colors displaying for the BMI vs Medical Charges vs. Weight Classification Scatter Plot.\n",
    "\n",
    "Now this is one of the challenges with Excel; if you want to color code your chart based off textual information, you're going to have to <b> manually </b> identify each range that applies for said textual category, and then input this in your Excel Chart.\n",
    "\n",
    "In the next question, we're going to simplify this process dramatically through the Power of Python.\n",
    "\n",
    "You'll tackle this question over two small steps.\n",
    "\n",
    "i) Create a new column titled `BMI_Classification` that makes use of `IF THEN Logic` to match the below criteria: \n",
    "\n",
    "    A) BMI < 18.5: Underweight\n",
    "    B) BMI > 18.5 and <= 24.9: Healthy\n",
    "    C) BMI > 24.9 and <= 29.9: Slightly Overweight\n",
    "    D) BMI > 30: Overweight\n",
    "\n",
    "<b> Hint: This <a href = \"https://blog.hubspot.com/website/pandas-if-else\"> resource </a> will be helpful! </b>\n",
    "\n",
    "If you're still stuck, take a look at this SO link <a href = \"https://stackoverflow.com/questions/49228596/pandas-case-when-default-in-pandas\"> here</a>! \n",
    "\n",
    "2. Upon completion of this logic, create a Scatter Plot that uses the `BMI_Classification` Column as the `hue` for your Scatter Plot.\n",
    "\n",
    "We've included an example below to show-case how this syntax works:\n",
    "\n",
    "~~~\n",
    "seaborn.scatterplot(data=dataframe, x=dataframe['ColA'], y=dataframe['ColB'], \n",
    "hue=Textual_Criteria) \n",
    " \n",
    "plt.show()\n",
    "~~~ \n"
   ]
  },
  {
   "cell_type": "markdown",
   "metadata": {},
   "source": [
    "<h2><b style=\"color:salmon\"> Place your code here </b> </h2>"
   ]
  },
  {
   "cell_type": "code",
   "execution_count": null,
   "metadata": {},
   "outputs": [],
   "source": [
    "# Classifying BMI using conditions\n",
    "conditions = [\n",
    "\n",
    "    (FamInsureCo_Data['bmi'] < 18.5),\n",
    "    (FamInsureCo_Data['bmi'] > 18.5) & (FamInsureCo_Data['bmi'] <= 24.9),\n",
    "    (FamInsureCo_Data['bmi'] > 24.9) & (FamInsureCo_Data['bmi'] <= 29.9),\n",
    "    (FamInsureCo_Data['bmi'] > 30)\n",
    "]\n",
    "\n",
    "# Assigning labels to the conditions\n",
    "labels = ['Underweight', 'Healthy', 'Slightly Overweight', 'Overweight']\n",
    "\n",
    "# Create new column for BMI Classification\n",
    "FamInsureCo_Data['BMI_Classification'] = np.select(conditions, labels)\n",
    "\n",
    "# Creating a Scatter Plot using BMI_Classification as hue\n",
    "sns.scatterplot(x='bmi', y='medical_insurance_charges', hue='BMI_Classification', data=FamInsureCo_Data)\n",
    "plt.title('Scatter Plot of Medical Insurance Costs vs. BMI Classified by BMI Categories')\n",
    "plt.xlabel('Body Mass Index (BMI)')\n",
    "plt.ylabel('Medical Insurance Charges ($)')\n",
    "plt.legend(title='BMI Classification')\n",
    "plt.show()\n",
    "\n",
    "# Suppressing Warnings\n",
    "import warnings\n",
    "warnings.filterwarnings(\"ignore\")\n"
   ]
  },
  {
   "cell_type": "code",
   "execution_count": null,
   "metadata": {},
   "outputs": [],
   "source": [
    "FamInsureCo_Data['BMI_Classification'].value_counts()\n"
   ]
  },
  {
   "cell_type": "code",
   "execution_count": null,
   "metadata": {},
   "outputs": [],
   "source": [
    "# Reapply the original conditions to identify the unaccounted-for values\n",
    "FamInsureCo_Data['Original_BMI_Classification'] = np.select(conditions, labels)\n",
    "\n",
    "# Filter the rows where the original classification is '0'\n",
    "unaccounted_values = FamInsureCo_Data[FamInsureCo_Data['Original_BMI_Classification'] == '0']['bmi']\n",
    "\n",
    "# Show the unique unaccounted-for BMI values\n",
    "unique_unaccounted_values = unaccounted_values.unique()\n",
    "unique_unaccounted_values"
   ]
  },
  {
   "cell_type": "markdown",
   "metadata": {},
   "source": [
    "The BMI_Classification categories include a '0' category with 12 values. After investigation, the likely reason for this is that the conditions listed within instructions don't cover all possible 'bmi' values in the dataset. Specifically, there is a gap in the conditions for BMI values. With further investigation, and as shown in above code output, the following values are unaccounted for: 18.5, 29.925, 29.92, 30. Since these values are not accounted for in any of the conditions, they get classified as \"0\".\n",
    "\n",
    "To resolve this, the categories in Step 4 have been updated as folows then the code reran:\n",
    "```\n",
    "updated_conditions = [\n",
    "    (FamInsureCo_Data['bmi'] <= 18.5),\n",
    "    (FamInsureCo_Data['bmi'] > 18.5) & (FamInsureCo_Data['bmi'] <= 24.9),\n",
    "    (FamInsureCo_Data['bmi'] > 24.9) & (FamInsureCo_Data['bmi'] <= 30),\n",
    "    (FamInsureCo_Data['bmi'] > 30)\n",
    "]\n",
    "```"
   ]
  },
  {
   "cell_type": "code",
   "execution_count": null,
   "metadata": {},
   "outputs": [],
   "source": [
    "# Classifying BMI using updated conditions\n",
    "updated_conditions = [\n",
    "    (FamInsureCo_Data['bmi'] <= 18.5),\n",
    "    (FamInsureCo_Data['bmi'] > 18.5) & (FamInsureCo_Data['bmi'] <= 24.9),\n",
    "    (FamInsureCo_Data['bmi'] > 24.9) & (FamInsureCo_Data['bmi'] <= 30),\n",
    "    (FamInsureCo_Data['bmi'] > 30)\n",
    "]\n",
    "\n",
    "# Assigning labels to the conditions\n",
    "labels = ['Underweight', 'Healthy', 'Slightly Overweight', 'Overweight']\n",
    "\n",
    "# Create new column for BMI Classification\n",
    "FamInsureCo_Data['BMI_Classification'] = np.select(updated_conditions, labels)\n",
    "\n",
    "# Creating a Scatter Plot using BMI_Classification as hue\n",
    "sns.scatterplot(x='bmi', y='medical_insurance_charges', hue='BMI_Classification', data=FamInsureCo_Data)\n",
    "plt.title('Scatter Plot of Medical Insurance Costs vs. BMI Classified by BMI Categories')\n",
    "plt.xlabel('Body Mass Index (BMI)')\n",
    "plt.ylabel('Medical Insurance Charges ($)')\n",
    "plt.legend(title='BMI Classification')\n",
    "plt.show()\n",
    "\n",
    "# Suppressing Warnings\n",
    "import warnings\n",
    "warnings.filterwarnings(\"ignore\")\n"
   ]
  },
  {
   "cell_type": "markdown",
   "metadata": {},
   "source": [
    "The scatter plot now includes color-coded BMI classifications. Here's what we can observe:\n",
    "\n",
    "1. **BMI Categories**: The majority of the data points fall under the \"Overweight\" and \"Slightly Overweight\" categories. There are fewer data points in the \"Healthy\" and almost none in the \"Underweight\" category.\n",
    "2. **Charge Distributions**: The \"Overweight\" category clearly has the highest range of medical insurance charges, including the outliers with extremely high charges. On the other hand, the \"Healthy\" category mostly has data points at the lower end of medical charges.\n",
    "3. **Clusters and Outliers**: The distinct clusters and outliers previously observed seem to predominantly belong to the \"Overweight\" category, reinforcing the idea that higher BMI often correlates with higher medical costs."
   ]
  },
  {
   "cell_type": "markdown",
   "metadata": {},
   "source": [
    "### Step 5: <span style=\"color:teal\"> Segmentation by Smoker Status</span> \n"
   ]
  },
  {
   "cell_type": "markdown",
   "metadata": {},
   "source": [
    "Now we may recall that we happened to see a particularly interesting observation when we filtered our data on `smoking status`. We saw costs uptick for a certain subset of our population - namely our Smokers.\n",
    "\n",
    "As you work through Python, it's important you understand how to `subset` your pandas dataframes.\n",
    "You've covered this in the datacamp material previously (Manipulating Dataframes with Pandas).\n",
    "\n",
    "We'll have you implement the knowledge you've learned in the below questions!\n",
    "If you're stuck, take a look at our Syntax refresher below:\n",
    "\n",
    "    conditionA = dataframe['ColOfInterest'] == 'SomeString' \n",
    "    #This means that conditionA is going to return a list of True and False entries, where True matches the textual string, 'SomeString'\n",
    "    \n",
    "    Next, we need to subset the dataframe to include only the 'SomeString' Values.\n",
    "    dataframe[conditionA]\n",
    "    That's it!\n",
    "    \n",
    " "
   ]
  },
  {
   "cell_type": "markdown",
   "metadata": {},
   "source": [
    "Create two scatter plots:\n",
    "\n",
    "A) Where the `Smoker Status = yes`, create a Scatter Plot color coded by Smoker Status (hue), with BMI on the X-Axis and Medical Charges on the Y-Axis.\n",
    "        \n",
    "B) Where the `Smoker Status = no`, create a Scatter Plot color coded by Smoker Status (hue), with BMI on the X-Axis and Medical Charges on the Y-Axis.\n",
    "        \n",
    "    \n"
   ]
  },
  {
   "cell_type": "markdown",
   "metadata": {},
   "source": [
    "<h2><b style=\"color:salmon\"> Place your code here </b> </h2>"
   ]
  },
  {
   "cell_type": "code",
   "execution_count": null,
   "metadata": {},
   "outputs": [],
   "source": [
    "# Creating conditions based on smoker status\n",
    "isSmoker = FamInsureCo_Data['smoker'] == 'yes'\n",
    "isNotsmoker = FamInsureCo_Data['smoker'] == 'no'\n",
    "\n",
    "# Subsetting the data based on conditions\n",
    "Smokers = FamInsureCo_Data[isSmoker]\n",
    "NonSmokers = FamInsureCo_Data[isNotsmoker]\n",
    "\n",
    "# Creating scatter plots\n",
    "fig, axes = plt.subplots(1, 2, figsize=(18, 8))\n",
    "\n",
    "# Create Scatter Plot for Smokers\n",
    "sns.scatterplot(ax=axes[0], data=Smokers, x='bmi', y='medical_insurance_charges', hue='smoker')\n",
    "axes[0].set_title('Smoker: Medical Insurance Costs vs. BMI')\n",
    "axes[0].set_xlabel('Body Mass Index (BMI)')\n",
    "axes[0].set_ylabel('Medical Insurance Charges ($)')\n",
    "axes[0].legend(title='Smoker Status')\n",
    "\n",
    "# Create Scatter Plot for Non-Smokers\n",
    "sns.scatterplot(ax=axes[1], data=NonSmokers, x='bmi', y='medical_insurance_charges', hue='smoker')\n",
    "axes[1].set_title('Non-Smoker: Medical Insurance Costs vs. BMI')\n",
    "axes[1].set_xlabel('Body Mass Index (BMI)')\n",
    "axes[1].set_ylabel('Medical Insurance Charges ($)')\n",
    "axes[1].legend(title='Smoker Status')\n",
    "\n",
    "plt.show()\n"
   ]
  },
  {
   "cell_type": "markdown",
   "metadata": {},
   "source": [
    "The two scatter plots display the relationship between BMI and medical insurance charges, segmented by smoker status. Here's what can be observed:\n",
    "\n",
    "1. **Smoker: Medical Insurance Costs vs. BMI**\n",
    "- *Higher Charges*: It's evident that smokers generally have higher medical insurance charges across all BMI categories.\n",
    "- *Variability*: The charges for smokers seem to have a wider range, particularly at higher BMI values, indicating that both smoking and BMI might amplify the medical costs.\n",
    "\n",
    "2. **Non-Smoker: Medical Insurance Costs vs. BMI**\n",
    "- *Lower Charges*: Non-smokers consistently show lower medical insurance charges compared to smokers, regardless of their BMI.\n",
    "- *Less Variability*: The medical costs for non-smokers are more clustered around the lower end, even for higher BMI values."
   ]
  },
  {
   "cell_type": "markdown",
   "metadata": {},
   "source": [
    "<b> What do you observe across all the visualisations?</b>"
   ]
  },
  {
   "cell_type": "markdown",
   "metadata": {},
   "source": [
    "**Overall Observations**\n",
    "1. *Significant Impact of Smoking*: Smoking appears to be a significant factor in determining medical insurance charges, potentially even more impactful than BMI.\n",
    "2. *Interaction Effect*: The costs for smokers with higher BMI values seem to disproportionately escalate, suggesting an interaction effect between smoking and BMI on medical insurance charges."
   ]
  },
  {
   "cell_type": "markdown",
   "metadata": {},
   "source": [
    "### Step 6: <span style=\"color:teal\"> Box Plots </span> "
   ]
  },
  {
   "cell_type": "markdown",
   "metadata": {},
   "source": [
    "Now you might recall that we had created some Box Plot visualisations in Excel.\n",
    "These were a little frustrating due to the filters in Excel that would impact your linked charts.\n",
    "\n",
    "\n",
    "Thankfully, Python, and subsequently, `seaborn` make creating box plots much easier.\n",
    "\n",
    "We've included an example of the syntax you'll need to recall over <a href = \"https://seaborn.pydata.org/generated/seaborn.boxplot.html\"> here</a>.\n",
    "\n",
    "Please create: \n",
    "\n",
    "<b> i) A Box Plot showcasing the spread of Medical Insurance Costs versus Region with the hue set to Smoker Column. </b>"
   ]
  },
  {
   "cell_type": "markdown",
   "metadata": {},
   "source": [
    "<h2><b style=\"color:salmon\"> Place your code here </b> </h2>"
   ]
  },
  {
   "cell_type": "code",
   "execution_count": null,
   "metadata": {},
   "outputs": [],
   "source": [
    "# Creating a boxplot showcasing the distribution of medical insurance charges based on region and smoker status\n",
    "sns.boxplot(data=FamInsureCo_Data, x='region', y='medical_insurance_charges', hue='smoker')"
   ]
  },
  {
   "cell_type": "markdown",
   "metadata": {},
   "source": [
    "The box plot provides insights into the distribution of medical insurance costs across different regions, segmented by smoker status:\n",
    "\n",
    "1. **Regional Differences**: There doesn't seem to be a significant difference in medical insurance costs across regions. The median costs appear relatively consistent.\n",
    "2. **Impact of Smoking**: Regardless of the region, smokers tend to have significantly higher medical insurance charges compared to non-smokers. The gap between the medians of smokers and non-smokers is substantial in every region.\n",
    "3. **Outliers**: Non-smokers have a number of outliers that are closer to the median cost of smokers, particularly in the \"northwest\" and \"northeast\" regions."
   ]
  },
  {
   "cell_type": "markdown",
   "metadata": {},
   "source": [
    "### Step 7: <span style=\"color:teal\"> Visualisations by Age </span> "
   ]
  },
  {
   "cell_type": "markdown",
   "metadata": {},
   "source": [
    "Now it's important that we're able to effectively visualise our population and the respective age profiles. \n",
    "\n",
    "Could there be an apparent relationship between an individuals age profile and their medical charges?\n",
    "\n",
    "We might assume yes, but let's visualise this with some histograms!\n",
    "\n",
    "Below is an example of a Histogram, segmented by penguin species. 🐧\n",
    "\n",
    "<img src = https://seaborn.pydata.org/_images/histplot_13_0.png>\n",
    "\n",
    "We won't be segmenting our data by 🐧, but rather, by Age Profile!\n",
    "\n",
    "i) Create a new column, `Age Classification` in your `FamInsureCo` dataframe using the `age` column, that classifies the data into the following criteria:\n",
    "\n",
    "    0 - 18 = Youth (Note; This is not inclusive of 18 in this range)\n",
    "    18 - 25 = Young Adult\t\n",
    "    25 - 35 = Adult\t\n",
    "    35 - 60 = Mature Age Adult\t\n",
    "    >=60\tSenior\n",
    "\n",
    "<b> Hint: You'll do the same thing you did in Step 4! Look back at this <a href = \"https://blog.hubspot.com/website/pandas-if-else\"> resource </a> if you're stuck! </b>\n",
    "    \n",
    "ii) Upon completion of this, create 5 Histograms </b>, one for each of the different `Age Classifications` where the X argument is set to `medical_insurance_charges`\n"
   ]
  },
  {
   "cell_type": "markdown",
   "metadata": {},
   "source": [
    "<h2><b style=\"color:salmon\"> Place your code here </b> </h2>"
   ]
  },
  {
   "cell_type": "code",
   "execution_count": null,
   "metadata": {},
   "outputs": [],
   "source": [
    "# Classifying age using conditions\n",
    "conditions = [\n",
    "\n",
    "    (FamInsureCo_Data['age'] < 18),\n",
    "    (FamInsureCo_Data['age'] >= 18) & (FamInsureCo_Data['age'] < 25),\n",
    "    (FamInsureCo_Data['age'] >= 25) & (FamInsureCo_Data['age'] < 35),\n",
    "    (FamInsureCo_Data['age'] >= 35) & (FamInsureCo_Data['age'] < 60),\n",
    "    (FamInsureCo_Data['age'] >= 60)\n",
    "]\n",
    "\n",
    "# Assigning labels to the conditions\n",
    "labels = ['Youth', 'Young Adult', 'Adult', 'Mature Age Adult', 'Senior']\n",
    "\n",
    "# Create new column for Age Classification\n",
    "FamInsureCo_Data['Age_Classification'] = np.select(conditions, labels)\n",
    "\n",
    "# Determine the number of bins for the histograms\n",
    "n_data = len(FamInsureCo_Data['Age_Classification'])\n",
    "n_bins = int(np.sqrt(n_data))\n",
    "\n",
    "# Create 5 histograms based on Age Classification where each histogram is based on the medical insurance charges\n",
    "# for each age group\n",
    "plt.figure(figsize=(18, 12))\n",
    "\n",
    "for i, age_class in enumerate(labels, 1):\n",
    "    plt.subplot(2, 3, i)\n",
    "    sns.histplot(data=FamInsureCo_Data[FamInsureCo_Data['Age_Classification'] == age_class], x='medical_insurance_charges', bins=n_bins, kde=False)\n",
    "    plt.title(f'{age_class} - Medical Insurance Charges')\n",
    "    plt.xlabel('Medical Insurance Charges ($)')\n",
    "    plt.ylabel('Frequency')\n",
    "\n",
    "plt.tight_layout()\n",
    "plt.show()\n",
    "\n"
   ]
  },
  {
   "cell_type": "markdown",
   "metadata": {},
   "source": [
    "During review of histograms, it was noted that the x-axis labels were not synced across all charts. This was resolved by adding the following code snippets to the cell:\n",
    "```# Calculate the global x-axis limits for all age groups except 'Youth'\n",
    "global_xlim = (\n",
    "    FamInsureCo_Data[FamInsureCo_Data['Age_Classification'] != 'Youth']['medical_insurance_charges'].min(),\n",
    "    FamInsureCo_Data[FamInsureCo_Data['Age_Classification'] != 'Youth']['medical_insurance_charges'].max()\n",
    ")\n",
    "\n",
    "# Synchronize x-axis for all age groups except 'Youth'\n",
    "    if age_class != 'Youth':\n",
    "        plt.xlim(global_xlim)\n",
    "```"
   ]
  },
  {
   "cell_type": "code",
   "execution_count": null,
   "metadata": {},
   "outputs": [],
   "source": [
    "# Updated code to produce synchronized x-axis limits for all age groups except 'Youth'\n",
    "\n",
    "# Classifying age using the given conditions\n",
    "conditions_age = [\n",
    "    (FamInsureCo_Data['age'] < 18),\n",
    "    (FamInsureCo_Data['age'] >= 18) & (FamInsureCo_Data['age'] < 25),\n",
    "    (FamInsureCo_Data['age'] >= 25) & (FamInsureCo_Data['age'] < 35),\n",
    "    (FamInsureCo_Data['age'] >= 35) & (FamInsureCo_Data['age'] < 60),\n",
    "    (FamInsureCo_Data['age'] >= 60)\n",
    "]\n",
    "\n",
    "# Assigning labels to the conditions\n",
    "labels_age = ['Youth', 'Young Adult', 'Adult', 'Mature Age Adult', 'Senior']\n",
    "\n",
    "# Create new column for Age Classification\n",
    "FamInsureCo_Data['Age_Classification'] = np.select(conditions_age, labels_age)\n",
    "\n",
    "# Determine the number of bins for the histograms\n",
    "n_data_age = len(FamInsureCo_Data['Age_Classification'])\n",
    "n_bins_age = int(np.sqrt(n_data_age))\n",
    "\n",
    "# Create histograms based on Age Classification\n",
    "plt.figure(figsize=(18, 12))\n",
    "\n",
    "# Calculate the global x-axis limits for all age groups except 'Youth'\n",
    "global_xlim = (\n",
    "    FamInsureCo_Data[FamInsureCo_Data['Age_Classification'] != 'Youth']['medical_insurance_charges'].min(),\n",
    "    FamInsureCo_Data[FamInsureCo_Data['Age_Classification'] != 'Youth']['medical_insurance_charges'].max()\n",
    ")\n",
    "\n",
    "for i, age_class in enumerate(labels_age, 1):\n",
    "    plt.subplot(2, 3, i)\n",
    "    sns.histplot(data=FamInsureCo_Data[FamInsureCo_Data['Age_Classification'] == age_class], x='medical_insurance_charges', bins=n_bins_age, kde=False)\n",
    "    plt.title(f'{age_class} - Medical Insurance Charges')\n",
    "    plt.xlabel('Medical Insurance Charges ($)')\n",
    "    plt.ylabel('Frequency')\n",
    "    \n",
    "    # Synchronize x-axis for all age groups except 'Youth'\n",
    "    if age_class != 'Youth':\n",
    "        plt.xlim(global_xlim)\n",
    "\n",
    "plt.tight_layout()\n",
    "plt.show()\n"
   ]
  },
  {
   "cell_type": "markdown",
   "metadata": {},
   "source": []
  },
  {
   "cell_type": "markdown",
   "metadata": {},
   "source": [
    "<b> What do you observe across all the visualisations?</b>"
   ]
  },
  {
   "cell_type": "markdown",
   "metadata": {},
   "source": [
    "#### General Observations Across All Visualizations:\n",
    "\n",
    "1. **Skewness**: All distributions, except for 'Youth,' are right-skewed. This indicates that most individuals in these age groups have medical insurance charges on the lower end of the scale.\n",
    "  \n",
    "2. **Range of Charges**: Excluding the 'Youth' category, the range of medical insurance charges is fairly consistent across the 'Young Adult,' 'Adult,' 'Mature Age Adult,' and 'Senior' groups. This consistency makes for an easier comparison.\n",
    "\n",
    "3. **Data Density**: The density of data points is mostly concentrated at the lower end of the medical insurance charges for each age category, corroborating the right-skewness observed.\n",
    "  \n",
    "4. **Outliers**: Each age group has outliers at the higher end of medical insurance charges. These are more noticeable in the 'Mature Age Adult' and 'Senior' categories.\n",
    "\n",
    "#### Specific Observations:\n",
    "\n",
    "- **Youth**: This category is unique due to its very limited data. It is not representative and may not offer substantial insights.\n",
    "  \n",
    "- **Young Adult**: The data is notably concentrated around the $2000-$10000 range.\n",
    "  \n",
    "- **Adult**: The distribution in this category is broader compared to the 'Young Adult' category, extending more towards higher charges.\n",
    "  \n",
    "- **Mature Age Adult**: This category shows a high frequency of cases in the $10000-$20000 range. It also has significant outliers with very high charges.\n",
    "  \n",
    "- **Senior**: Similar to the 'Mature Age Adult' category but with a bit more spread towards the higher end of charges."
   ]
  },
  {
   "cell_type": "markdown",
   "metadata": {},
   "source": [
    "iii) Now we know that our Histogram might appear a bit misleading as we haven't accounted for the smoker status profile.\n",
    "\n",
    "<b>Filter the FamInsureCo Dataframe by Smoking Status and create two sets of histograms, one where the smoker status = yes, and one where the Smoking Status = No. </b>\n",
    "\n",
    "Do we observe any differences?\n"
   ]
  },
  {
   "cell_type": "markdown",
   "metadata": {},
   "source": [
    "<h2><b style=\"color:salmon\"> Place your code here for where the Smoker = Yes</b> </h2>"
   ]
  },
  {
   "cell_type": "code",
   "execution_count": null,
   "metadata": {},
   "outputs": [],
   "source": [
    "# Calculate the global x-axis limits for all age groups except 'Youth'\n",
    "global_xlim = (\n",
    "    FamInsureCo_Data[FamInsureCo_Data['Age_Classification'] != 'Youth']['medical_insurance_charges'].min(),\n",
    "    FamInsureCo_Data[FamInsureCo_Data['Age_Classification'] != 'Youth']['medical_insurance_charges'].max()\n",
    ")\n",
    "\n",
    "# Function to plot histograms based on smoker status\n",
    "def plot_historgrams_by_smoker_status(smoker_status):\n",
    "    for i, age_class in enumerate(labels_age, 1):\n",
    "        plt.subplot(2, 3, i)\n",
    "        sns.histplot(data=FamInsureCo_Data[(FamInsureCo_Data['Age_Classification'] == age_class) & (FamInsureCo_Data['smoker'] == smoker_status)], x='medical_insurance_charges', bins=n_bins_age, kde=False)\n",
    "        plt.title(f'{age_class} - Medical Insurance Charges (Smoker: {smoker_status.capitalize()})')\n",
    "        plt.xlabel('Medical Insurance Charges ($)')\n",
    "        plt.ylabel('Frequency')\n",
    "\n",
    "        # Synchronize x-axis for all age groups except 'Youth'\n",
    "        if age_class != 'Youth':\n",
    "            plt.xlim(global_xlim)\n",
    "\n",
    "    plt.tight_layout()\n",
    "    plt.show()\n",
    "\n",
    "# Plot histograms for smokers\n",
    "plot_historgrams_by_smoker_status('yes')\n",
    "\n",
    "# Plot histograms for non-smokers\n",
    "plot_historgrams_by_smoker_status('no')"
   ]
  },
  {
   "cell_type": "markdown",
   "metadata": {},
   "source": [
    "<b> What do you observe across all the visualisations?</b>"
   ]
  },
  {
   "cell_type": "markdown",
   "metadata": {},
   "source": [
    "#### General Observations:\n",
    "- Across both smoker and non-smoker visualizations, medical insurance charges are highly skewed to the right.\n",
    "- The distribution of charges for smokers is generally wider than for non-smokers, indicating higher variability in expenses.\n",
    "\n",
    "#### Smokers\n",
    "- For smokers, all age categories, except \"Youth,\" display a wide range of medical insurance charges.\n",
    "- A secondary peak at higher medical insurance charges is evident in almost all age groups except \"Youth,\" suggesting a subgroup with significantly higher expenses.\n",
    "\n",
    "#### Non-Smokers\n",
    "- For non-smokers, the distribution of medical insurance charges is tightly packed at the lower end across all age categories.\n",
    "- There is no secondary peak in the histograms for non-smokers, contrasting sharply with the smoker category and emphasizing the cost impact of smoking.\n",
    "\n",
    "By observing these histograms, it becomes clear that smoking status significantly impacts the distribution of medical insurance charges across all age groups. Smokers tend to have higher medical insurance costs, with a wider range of charges compared to non-smokers."
   ]
  },
  {
   "cell_type": "markdown",
   "metadata": {},
   "source": [
    "<h2><b style=\"color:salmon\"> Place your code here for where the Smoker = No </b> </h2>"
   ]
  },
  {
   "cell_type": "markdown",
   "metadata": {},
   "source": [
    "Refer to the above code as I created a function that can be used to create the histograms for both smokers and non-smokers by passing in the appropriate filter."
   ]
  },
  {
   "cell_type": "markdown",
   "metadata": {},
   "source": [
    "<b> What do you observe across all the visualisations?</b>"
   ]
  },
  {
   "cell_type": "markdown",
   "metadata": {},
   "source": [
    "My non-smoker observations are included in the above section."
   ]
  },
  {
   "cell_type": "markdown",
   "metadata": {},
   "source": [
    "### Step 8: <span style=\"color:teal\"> Segmentation by Gender (Sex) </span> "
   ]
  },
  {
   "cell_type": "markdown",
   "metadata": {},
   "source": [
    "Now we know that there appears to be a Hypotheses that one of the two sexes, may have higher medical insurance costs.\n",
    "\n",
    "However, we know that this isn't isolated only to gender.\n",
    "\n",
    "Smoking Status obviously has a larger role to play here\n",
    "\n",
    "<b>Create a Box Plot where the `hue` is set to `smoker` with the X-Axis set to Gender (`i.e. sex`). What do you observe? </b>\n",
    "\n"
   ]
  },
  {
   "cell_type": "markdown",
   "metadata": {},
   "source": [
    "<h2><b style=\"color:salmon\"> Place your code here </b> </h2>"
   ]
  },
  {
   "cell_type": "code",
   "execution_count": null,
   "metadata": {},
   "outputs": [],
   "source": [
    "# Create a boxplot where hue is based on smoker status with the x-axis set to Gender\n",
    "plt.figure(figsize=(10, 6))\n",
    "sns.boxplot(data=FamInsureCo_Data, x='sex', y='medical_insurance_charges', hue='smoker')\n",
    "plt.title(\"Box Plot of Medical Insurance Costs by Gender and Smoker Status\")\n",
    "plt.xlabel(\"Gender\")\n",
    "plt.ylabel(\"Medical Insurance Charges ($)\")\n",
    "plt.legend(title='Smoker Status')\n",
    "plt.show()"
   ]
  },
  {
   "cell_type": "markdown",
   "metadata": {},
   "source": [
    "<b> What do you observe across all the visualisations?</b>"
   ]
  },
  {
   "cell_type": "markdown",
   "metadata": {},
   "source": [
    "The box plot illustrates the distribution of medical insurance charges by gender, segmented by smoker status. Here's what can be observed:\n",
    "\n",
    "**Gender Differences**: At a glance, the median medical insurance charges don't show a significant difference between males and females within the same smoker status.\n",
    "\n",
    "**Smoker Impact**: Similar to previous visualizations, the impact of smoking is evident. Smokers, regardless of their gender, face substantially higher medical insurance charges compared to non-smokers.\n",
    "\n",
    "**Outliers**: Both genders have outliers in the non-smoker category that approach the median costs of smokers, but these are relatively few.\n",
    "\n",
    "**Overall Observations**\n",
    "\n",
    "*Limited Gender Effect*: While there might be slight variations in medical costs between genders, the impact of smoking far outweighs any gender-specific trends.\n",
    "*Consistent Smoker Impact*: Across all visualizations, one of the most consistent observations is the significant impact of smoking on medical insurance charges."
   ]
  },
  {
   "cell_type": "markdown",
   "metadata": {},
   "source": [
    "<h3> <span style=\"color:orange\"> Please note that Step 9 and 10 are Challenge Questions and will intentionally be more difficult </h3> "
   ]
  },
  {
   "cell_type": "markdown",
   "metadata": {},
   "source": [
    "### Step 9: <span style=\"color:teal\"> Create Quartiles</span> \n",
    "\n",
    "Now we haven't done any particular treatments to our data analysis.\n",
    "In our case, we might have <b> Outliers </b> in our Medical Insurance Charges that can skew our dataset.\n",
    "\n",
    "We're going to be looking at fitting a `regression model` later in our Inferential Statistics Analysis, but before that, it's important we treat our data and ensure we remove our Outliers. Take a look at the image below; you should be able to clearly identify the data point that is different from the rest. \n",
    "\n",
    "If you were to take the average including that data point, the average would be inflated, when in fact that data point isn't representative of the series. Generally, we would remove Outliers to ensure we have a representative population mean, or, use the median.\n",
    "\n",
    "Now let's see what happens if we are to remove our Outliers.\n",
    "\n",
    "<img src = https://images.ctfassets.net/kj4bmrik9d6o/cESitsCxzL2ijivbNwiW6/de9421d4c144e5a5c23c35941931c83f/Outlier_Graph_CalculateOutlierFormula-01.png>\n",
    "\n",
    "To do this, we'll have you perform the below:\n",
    "\n",
    "Create two new variables called `Q1 and Q3` using the `FamInsureCo` Dataframe, focusing specifically on the <b> medical insurance charges </b> column. \n",
    "\n",
    "<b> i) Q1 should contain the 25th percentile for all columns in the dataframe while Q3 should contain the 75th percentile for all the columns in the dataframe. </b>\n",
    "\n",
    "You may want to use the .quantile() function explained <a href = https://www.geeksforgeeks.org/python-pandas-dataframe-quantile/> here </a> \n",
    "\n",
    "<b>ii) After defining Q1 and Q3, calculate the interquartile range **(IQR = Q3 - Q1)** for all columns in the dataframe and print it to the screen.</b>\n",
    "\n",
    "We've included a sample of the IQR output below for your reference!\n",
    "\n",
    "The general logic for removing an outliers is:\n",
    "\n",
    "<b> Any Value that is either Q1 - 1.5x IQR or greater than Q3 + 1.5x IQR is considered an outlier. </b>\n",
    "\n",
    "Where Q1 = Quartile 1 and Q3 = Quartile 3\n",
    "\n",
    "Let's break these down to a few simple steps and tackle how to calculate this.\n",
    "\n",
    "1. Define the Quartiles Q1 and Q3. \n",
    "2. Calculate the Interquartile Range (Q3 - Q1)\n",
    "3. Create two new variables; Lower_Range (Q1 - 1.5x IQR) and Upper_Range ( Q3 + 1.5x IQR).\n",
    "4. Using Boolean Subsetting, filter the Dataframe for Outliers and remove them\n",
    "5. Calculate what the proportion of Outliers exist (i.e. Number of entries left after Outlier removal / Number of total entries in dataset) "
   ]
  },
  {
   "cell_type": "markdown",
   "metadata": {},
   "source": [
    "<h2><b style=\"color:salmon\"> Place your code here </b> </h2>"
   ]
  },
  {
   "cell_type": "code",
   "execution_count": null,
   "metadata": {},
   "outputs": [],
   "source": [
    "# Create Q1 and Q3 for the medical insurance charges\n",
    "Q1 = FamInsureCo_Data['medical_insurance_charges'].quantile(0.25)\n",
    "Q3 = FamInsureCo_Data['medical_insurance_charges'].quantile(0.75)\n",
    "\n",
    "# Calculate the Interquantile Range (IQR) for the medical insurance charges\n",
    "IQR = Q3 - Q1\n",
    "\n",
    "# Calculate the lower and upper limits for the medical insurance charges\n",
    "Lower_Limit = Q1 - (1.5 * IQR)\n",
    "Upper_Limit = Q3 + (1.5 * IQR)\n",
    "\n",
    "# Filter the Dataframe for Outliers and remove them\n",
    "FamInsureCo_Data_NoOutliers = \\\n",
    "    FamInsureCo_Data[(FamInsureCo_Data['medical_insurance_charges'] < Lower_Limit) | \n",
    "                     (FamInsureCo_Data['medical_insurance_charges'] > Upper_Limit)]\n",
    "\n",
    "# Calculate the proportion of Outliers\n",
    "Proportion_of_Outliers = FamInsureCo_Data_NoOutliers.shape[0] / FamInsureCo_Data.shape[0] * 100\n",
    "\n",
    "Q1, Q3, IQR, Lower_Limit, Upper_Limit, Proportion_of_Outliers"
   ]
  },
  {
   "cell_type": "markdown",
   "metadata": {},
   "source": []
  },
  {
   "cell_type": "markdown",
   "metadata": {},
   "source": [
    "### Step 10: <span style=\"color:teal\"> Identify & Remove Outliers</span> \n",
    "\n",
    "Continuing in from Step 9 - we still need to calculate <b>how</b> we can remove our outliers.\n",
    "\n",
    "We're aware of the overall formula as shown per below.\n",
    "\n",
    "<b> Outlier = Q1 - 1.5x IQR OR Q3 + 1.5x IQR </b>\n",
    "\n",
    "Now let's work out how we can identify these Outliers step by step. \n",
    "\n",
    "<b> i) Define two new variables, Lower_Limit and Upper_Limit can be calculated as:</b>\n",
    "<p>\n",
    "<li> Lower_Limit = Q1 - 1.5 * IQR </li>\n",
    "<li> Upper_Limit = Q3 + 1.5 * IQR </li> \n",
    "   \n",
    "<b> ii) Using Lower_Limit and Upper_Limit with an OR (|) condition, filter the dataframe to include *only* the Outliers. How many Outliers do we have?</b>\n",
    "    \n",
    "<b>Now note that we only want to use the *upper limit* for our filtering. \n",
    "This is because the lower limit has us retrieve -ve medical insurance charges, which isn't valid. </b>\n",
    "\n",
    "What this means is that the syntax should look like this:\n",
    "    \n",
    "    FamInsureCoOutliers = some_dataframe [ (some_dataframe > Upper_Limit)] \n",
    "    \n",
    "If you're stuck, <a href = https://stackoverflow.com/questions/54398554/how-to-remove-outliers-in-python> here's </a> a link that will show you how you can remove Outliers in Python! \n",
    "\n",
    "<b> iii) What is the percentage of data that remains after we've removed the Outliers from the `FamInsureCo` dataset?</b>\n",
    "    "
   ]
  },
  {
   "cell_type": "markdown",
   "metadata": {},
   "source": [
    "<h2><b style=\"color:salmon\"> Place your code here </b> </h2>"
   ]
  },
  {
   "cell_type": "code",
   "execution_count": null,
   "metadata": {},
   "outputs": [],
   "source": [
    "# Define the lower and upper limits for the medical insurance charges\n",
    "Lower_Limit = Q1 - (1.5 * IQR)\n",
    "Upper_Limit = Q3 + (1.5 * IQR)\n",
    "\n",
    "# Filter the dataframe to include only the Outliers\n",
    "FamInsureCo_Data_Outliers = FamInsureCo_Data[FamInsureCo_Data['medical_insurance_charges'] > Upper_Limit]\n",
    "\n",
    "# Number of Outliers\n",
    "num_outliers = len(FamInsureCo_Data_Outliers)\n",
    "\n",
    "# Percentage of data remaining after removing Outliers\n",
    "percentage_remaining_data = round((len(FamInsureCo_Data) - len(FamInsureCo_Data_NoOutliers)) / len(FamInsureCo_Data) * 100, 2)\n",
    "\n",
    "num_outliers, percentage_remaining_data"
   ]
  },
  {
   "cell_type": "markdown",
   "metadata": {},
   "source": [
    "#### Summary of Quartile and Outlier Analysis\n",
    "**Quartiles**:\n",
    "\n",
    "1. *Q1 (25th percentile)* for medical insurance charges is approximately $4,740.29\n",
    "2. *Q3 (75th percentile)* is approximately $16,639.92\n",
    "3. *Interquartile Range (IQR)*: Q3 - Q1 = $11,899.63\n",
    "\n",
    "**Outlier Range**:\n",
    "\n",
    "1. *Lower Range*: Q1 - 1.5 * IQR = -$13,109.15\n",
    "2. *Upper Range*: Q3 + 1.5 * IQR =  $34,489.36\n",
    "3. *Proportion of Outliers*: About 89.6% of the original data remains after removing outliers based on the calculated ranges.\n",
    "\n",
    "**Number of Outliers**:\n",
    "\n",
    "There are 139 outliers when considering only the upper limit for medical insurance charges.\n",
    "\n",
    "**Percentage of Data Remaining**:\n",
    "\n",
    "About 89.6% of the data remains after removing these outliers."
   ]
  },
  {
   "cell_type": "markdown",
   "metadata": {},
   "source": [
    "<b> Now that you've removed the Outliers and discovered you still have a significant amount of data left - do you think removing Outliers is problematic or not? Please state your answer below and explain what your thoughts are. </b> "
   ]
  },
  {
   "cell_type": "markdown",
   "metadata": {},
   "source": [
    "**Is Removing Outliers Problematic?**\n",
    "\n",
    "The removal of outliers has left us with a significant amount of data (about 89.6% remains). In the context of this analysis, removing outliers is not necessarily problematic. However, outlier treatment can often depend on the business context.\n",
    "\n",
    "In this specific case, the outliers primarily represent individuals with extremely high medical insurance costs, which might be due to severe medical conditions or other factors. If the analysis aims to understand general trends in medical insurance costs, removing these outliers makes sense. But, if the focus is on high-cost cases for specialized insurance packages or risk assessment, then these outliers would be of particular interest."
   ]
  },
  {
   "cell_type": "markdown",
   "metadata": {},
   "source": [
    "## Part II: <span style=\"color:Purple\">Inferential Statistical Analysis</span>"
   ]
  },
  {
   "cell_type": "markdown",
   "metadata": {},
   "source": [
    "When you performed inferential statistics for FamInsureCo using Excel, you made use of the `corr` function as well as the data analysis package to create a regression model.\n",
    "\n",
    "You'll be revisiting these functions but using Python to do so.\n",
    "\n",
    "Specifically, you'll be using a *heatmap* via the `seaborn` library, which will help improve your ability to visualise correlations between variables. \n",
    "\n",
    "### Step 11: <span style=\"color:purple\">Create a Heatmap</span> \n",
    "i) Using Seaborn's heatmap function, create a heatmap that clearly shows the correlations (R) for all variables using the `faminsure_co dataset`. \n",
    "\n",
    "The syntax of Seaborn takes the following arguments:\n",
    "\n",
    "<a href = https://seaborn.pydata.org/generated/seaborn.heatmap.html> sns.heatmap(correlated_dataframe, annot=True) </a>\n",
    "\n",
    "You'll need to ensure you use the following <a href = https://pandas.pydata.org/pandas-docs/stable/reference/api/pandas.DataFrame.corr.html>.corr() </a>  function and apply this to your dataframe first, <b> before </b> passing this to the sns.heatmap() function."
   ]
  },
  {
   "cell_type": "markdown",
   "metadata": {},
   "source": [
    "<h2><b style=\"color:salmon\"> Place your code here </b> </h2>"
   ]
  },
  {
   "cell_type": "markdown",
   "metadata": {},
   "source": [
    "#### We've included an example of what the output *may* look like below"
   ]
  },
  {
   "cell_type": "code",
   "execution_count": null,
   "metadata": {},
   "outputs": [],
   "source": [
    "# Create correlation for all variables\n",
    "FamInsureCo_Data.corr()"
   ]
  },
  {
   "cell_type": "code",
   "execution_count": null,
   "metadata": {},
   "outputs": [],
   "source": [
    "# Create correlation matrix for numerical variables\n",
    "corr_matrix = FamInsureCo_Data.select_dtypes('number').corr()\n",
    "\n",
    "# Create a heatmap to visualize the correlation matrix with annotations for each cell\n",
    "plt.figure(figsize=(10, 8))\n",
    "sns.heatmap(corr_matrix, annot=True, cmap='coolwarm', fmt=\".2f\", annot_kws={\"size\": 10})\n",
    "plt.title(\"Correlation Heatmap of FamInsureCo Dataset's Numerical Variables\")\n",
    "plt.show()"
   ]
  },
  {
   "cell_type": "markdown",
   "metadata": {},
   "source": [
    "**Which variables seem to correlate with Medical Insurance Charges?**\n"
   ]
  },
  {
   "cell_type": "markdown",
   "metadata": {},
   "source": [
    "**Observations from Heatmap**\n",
    "The heatmap shows the correlation coefficient (R) between the variables in the faminsure_co dataset. In this context, the focus is on the \"medical_insurance_charges\" variable:\n",
    "\n",
    "It has a weak positive correlation with \"age\" (R = 0.30) and \"bmi\" (R = 0.20).\n",
    "\n",
    "No other variables are present to observe further correlations since \"age\" and \"bmi\" are the only numerical features in the dataset."
   ]
  },
  {
   "cell_type": "markdown",
   "metadata": {},
   "source": [
    "You might have realised that you only have <b> 3 </b> variables appearing in your correlated Heatmap.\n",
    "This might seem strange as you would recall creating some other variables such as `age_classification` and `bmi_classification`. \n",
    "\n",
    "Why don't they appear?\n",
    "\n",
    "Well, the simple reason is that these variables <b> aren't </b> numerical variables, but textual.\n",
    "Correlations can only be performed on <b> numerical variables </b>.\n",
    "\n",
    "This means, we'll need to convert our textual variables INTO numerical variables.\n",
    "We can do this using a function in pandas called `pd.get_dummies`. \n",
    "\n",
    "Take a look at the `FamInsureCo Inf. Stats Data` tab and look at the data we've converted for you; this is what we'll be doing in the below step. We're simply converting our categorical variables into numerical variables that we can then use correlation, to unpack, and better understand how they relate to our medical insurance charges! \n",
    "\n",
    "This is what we'll do in the below step, so let's get started!\n"
   ]
  },
  {
   "cell_type": "markdown",
   "metadata": {},
   "source": [
    "### Step 12: <span style=\"color:purple\">Creating Dummy Variables </span>"
   ]
  },
  {
   "cell_type": "markdown",
   "metadata": {},
   "source": [
    "i) Using Pandas `pd.get_dummies()` function, convert the following variables and store this in a new dataframe called `faminsureco_converted`:\n",
    "\n",
    "1. age_classification\n",
    "2. bmi_classification\n",
    "3. sex\n",
    "4. smoker\n",
    "5. region\n",
    "\n",
    "The syntax of pd.get_dummies() takes the following arguments:\n",
    "\n",
    "<a href = https://pandas.pydata.org/docs/reference/api/pandas.get_dummies.html> pd.get_dummies(dataframe['column_or_columns_of_interest']</a>\n",
    "\n",
    "<b> Hint: If you need some additional guidance, click on the link over <a href = \"https://pandas.pydata.org/docs/reference/api/pandas.get_dummies.html\"> here! </a></b>\n",
    "\n",
    "ii) Upon completion of this, join `faminsureco` and `faminsureco_converted` into <b> one </b> new dataframe called `faminsure_combined`. \n",
    "\n",
    "<b> Hint: Don't forget to think about using the `pd.concat` command you've learned about!</b>\n",
    "\n",
    "iii) Having created `faminsure_combined`, re-run your correlation and visualise the corresponding Heatmap (as per Step 10).\n",
    "\n",
    "What do you notice if you focus specifically on <b> medical insurance charges </b>?\n"
   ]
  },
  {
   "cell_type": "code",
   "execution_count": null,
   "metadata": {},
   "outputs": [],
   "source": [
    "# Create dummy variables for the specified columns\n",
    "dummy_columns = ['Age_Classification', 'BMI_Classification', 'sex', 'smoker', 'region']\n",
    "faminsureco_converted = pd.get_dummies(FamInsureCo_Data[dummy_columns])\n",
    "\n",
    "# Combine the original dataframe with the dummy variables to create a new dataframe\n",
    "faminsure_combined = pd.concat([FamInsureCo_Data, faminsureco_converted], axis=1)\n",
    "\n",
    "# Drop the original columns that were converted to dummy variables, along with 'Original_BMI_Classification'\n",
    "faminsure_combined.drop(columns=dummy_columns + ['Original_BMI_Classification'], inplace=True, errors='ignore')\n",
    "\n",
    "# Calculate the new correlation matrix for the combined dataframe\n",
    "corr_matrix_combined = faminsure_combined.corr()\n",
    "\n",
    "# Create a heatmap for the new correlation matrix\n",
    "plt.figure(figsize=(18, 14))\n",
    "sns.heatmap(corr_matrix_combined, annot=True, cmap='coolwarm', fmt=\".2f\")\n",
    "plt.title(\"Correlation Heatmap of FamInsureCombined Dataset\")\n",
    "plt.show()"
   ]
  },
  {
   "cell_type": "markdown",
   "metadata": {},
   "source": [
    "#### Observations Focusing on Medical Insurance Charges\n",
    "\n",
    "##### General Insights\n",
    "- Focusing specifically on medical insurance charges reveals significant correlations with several factors, namely smoker status, age categories, and BMI classifications.\n",
    "\n",
    "##### Detailed Observations\n",
    "\n",
    "1. **Smoker Status**: \n",
    "    - The dummy variables for smoker status (`smoker_no` and `smoker_yes`) continue to show significant correlations.\n",
    "    - `smoker_yes` has a strong positive correlation of approximately **0.79**, reinforcing that smoking has a substantial impact on medical insurance charges.\n",
    "\n",
    "2. **Age Categories**: \n",
    "    - Different age classifications have varying impacts on medical insurance charges.\n",
    "    - For instance, the \"Young Adult\" category shows a negative correlation of approximately **-0.45**, suggesting lower insurance charges.\n",
    "    - Conversely, the \"Mature Age Adult\" category has a positive correlation of around **0.32**, indicating higher charges.\n",
    "\n",
    "3. **BMI Categories**: \n",
    "    - The BMI classifications like \"Healthy\" show a negative correlation of approximately **-0.09**, and \"Overweight\" has a positive correlation of around **0.13**.\n",
    "    - While these correlations are less strong compared to smoking status, they still influence medical insurance charges.\n",
    "\n",
    "4. **Sex and Region**: \n",
    "    - These factors continue to show negligible correlation with medical insurance charges, affirming that they are not significant predictors in this context.\n",
    "\n",
    "##### Summary\n",
    "- Smoking status remains the most significant factor affecting medical insurance charges, followed by age categories and then BMI classifications.\n",
    "- The sex and region variables appear to have the least influence.\n"
   ]
  },
  {
   "cell_type": "markdown",
   "metadata": {},
   "source": [
    "\n",
    "### Step 13: <span style=\"color:purple\">Create a Barplot of Correlated Features</span>\n",
    "<b> i) Using the correlated dataframe you've created earlier, create a barplot that shows the correlated features against Medical Insurance Charges, in descending order. </b>\n",
    "\n",
    "You'll have to think carefully regarding this question.\n",
    "\n",
    "You'd know that you can get the correlation values from the following command:\n",
    "\n",
    "    dataframe.corr()\n",
    "    \n",
    "Upon printing this out, you should get a **dataframe** that looks like the below:\n"
   ]
  },
  {
   "cell_type": "markdown",
   "metadata": {},
   "source": [
    "You might think to yourself this looks **suspiciously like a dataframe with columns that you can manipulate**.\n",
    "\n",
    "This is indeed the case. \n",
    "\n",
    "With this hint in mind, you should be able to **select the relevant column of interest and combine this with the .plot(kind='__') function to answer the question**. Don't forget to think about .sort_values() to help sort your data!"
   ]
  },
  {
   "cell_type": "markdown",
   "metadata": {},
   "source": [
    "<h2><b style=\"color:salmon\"> Place your code here </b> </h2>"
   ]
  },
  {
   "cell_type": "code",
   "execution_count": null,
   "metadata": {},
   "outputs": [],
   "source": [
    "# Create a series of the correlation coefficients for 'medical_insurance_charges'\n",
    "corrs_with_charges = corr_matrix_combined['medical_insurance_charges'].sort_values(ascending=False)\n",
    "\n",
    "# Remove 'medical_insurance_charges' from the series to focus on other variables\n",
    "corrs_with_charges = corrs_with_charges.drop('medical_insurance_charges')\n",
    "\n",
    "# Create a barplot to visualize the correlation coefficients\n",
    "plt.figure(figsize=(10, 8))\n",
    "sns.barplot(x=corrs_with_charges.values, y=corrs_with_charges.index, orient='h')\n",
    "plt.title(\"Correlation of Features with Medical Insurance Charges\")\n",
    "plt.xlabel(\"Features\")\n",
    "plt.ylabel(\"Variable\")\n",
    "plt.show()"
   ]
  },
  {
   "cell_type": "markdown",
   "metadata": {},
   "source": [
    "#### Barplot Observations Focused on Medical Insurance Charges\n",
    "\n",
    "The barplot visualizes the correlation of different features with \"medical_insurance_charges\":\n",
    "\n",
    "**Strongest Positive Correlation**: `smoker_yes` has the strongest positive correlation, confirming that smoking status significantly impacts medical insurance charges.\n",
    "    \n",
    "**Moderate Positive Correlations**: `age` and `bmi` also have positive correlations but are much weaker compared to `smoker_yes`.\n",
    "      \n",
    "**Age Classifications**: Various age classifications like `age_classification_Senior` and `age_classification_Mature Age Adult` show moderate positive correlations.\n",
    "    \n",
    "**Weak Correlations**: Other variables like `sex_male` and `region_southeast` have very weak correlations.\n",
    "\n",
    "#### Summary\n",
    "This visualization helps focus on the most influential variables affecting medical insurance charges."
   ]
  },
  {
   "cell_type": "markdown",
   "metadata": {},
   "source": [
    "### Step 14: <span style=\"color:purple\">Create a Heatmap using the Outlier Free Dataframe</span> \n",
    "Previously, you created a correlation matrix using the `Faminsureco` dataframe. Let's revisit the Outlier Free Dataframe you created in Step 11. \n",
    "\n",
    "<b> i) Using the same steps you went through in Unit 10, convert the `bmi_classification` and `age_classification` columns in the `FamInsureCoOutliers` Dataframe. Upon completion of this, using Seaborn's heatmap function, create a heatmap that clearly shows the correlations (including R) for all variables using the `Faminsureco` dataset. </b>\n",
    "\n",
    "ii) Create a Bar Plot focusing on the `medical_insurance_charges` in your correlated dataframe you've created. \n",
    "\n",
    "What do you observe when focusing on the `medical_insurance_charges`?"
   ]
  },
  {
   "cell_type": "markdown",
   "metadata": {},
   "source": [
    "<h2><b style=\"color:salmon\"> Place your code here </b> </h2>"
   ]
  },
  {
   "cell_type": "code",
   "execution_count": null,
   "metadata": {},
   "outputs": [],
   "source": [
    "# Create dummy variables for the specified columns\n",
    "dummy_columns_ageBmi = ['Age_Classification', 'BMI_Classification']\n",
    "famiCo_converted_ageBMI = pd.get_dummies(FamInsureCo_Data_Outliers[dummy_columns_ageBmi])\n",
    "\n",
    "# Combine the original dataframe with the dummy variables to create a new dataframe\n",
    "famiCo_combined_ageBMI = pd.concat([FamInsureCo_Data_Outliers, famiCo_converted_ageBMI], axis=1)\n",
    "\n",
    "# Drop the original columns that were converted to dummy variables, along with 'Original_BMI_Classification'\n",
    "famiCo_combined_ageBMI.drop(columns=dummy_columns + ['Original_BMI_Classification'], inplace=True, errors='ignore')\n",
    "\n",
    "# Calculate the new correlation matrix for the combined dataframe\n",
    "corr_matrix_combined_ageBmi = famiCo_combined_ageBMI.corr()\n",
    "\n",
    "# Create a heatmap for the new correlation matrix\n",
    "plt.figure(figsize=(18, 14))\n",
    "sns.heatmap(corr_matrix_combined_ageBmi, annot=True, cmap='coolwarm', fmt=\".2f\")\n",
    "plt.title(\"Correlation Heatmap of FamInsureCombined Dataset\")\n",
    "plt.show()"
   ]
  },
  {
   "cell_type": "markdown",
   "metadata": {},
   "source": [
    "<b> Do any variables stand out? If yes, list these out below your heatmap. </b>"
   ]
  },
  {
   "cell_type": "code",
   "execution_count": null,
   "metadata": {},
   "outputs": [],
   "source": [
    "# Create a series of the correlation coefficients for 'medical_insurance_charges'\n",
    "corrs_with_charges_ageBmi = corr_matrix_combined_ageBmi['medical_insurance_charges'].sort_values(ascending=False)\n",
    "\n",
    "# Remove 'medical_insurance_charges' from the series to focus on other variables\n",
    "corrs_with_charges_ageBmi = corrs_with_charges_ageBmi.drop('medical_insurance_charges')\n",
    "\n",
    "# Create a barplot to visualize the correlation coefficients\n",
    "plt.figure(figsize=(10, 8))\n",
    "sns.barplot(x=corrs_with_charges_ageBmi.values, y=corrs_with_charges_ageBmi.index, orient='h')\n",
    "plt.title(\"Correlation of Features with Medical Insurance Charges\")\n",
    "plt.xlabel(\"Features\")\n",
    "plt.ylabel(\"Variable\")\n",
    "plt.show()"
   ]
  },
  {
   "cell_type": "markdown",
   "metadata": {},
   "source": [
    "<h3> <span style=\"color:orange\"> Please note that Step 13 - Step 15 are challening questions and will intentionally be more difficult. </h3> "
   ]
  },
  {
   "cell_type": "markdown",
   "metadata": {},
   "source": [
    "### Creating a Multiple Regression Model\n"
   ]
  },
  {
   "cell_type": "markdown",
   "metadata": {},
   "source": [
    "When you worked on this case study in Excel, you went through the tricky process of manually building out your regressive equation. It's good for you to know that this process is much simpler in Python!  \n",
    "\n",
    "For this step, you'll be using the statsmodel.api library you imported earlier and calling the Ordinary Least Squares Regression to create a multiple regression model (which is a linear regression model with more than one independent variable).\n",
    "\n",
    "### Step 15: <span style=\"color:purple\">Use OLS Regression</span> \n",
    "<b> i) Using the OLS Regression Model in the statsmodel.api library, create a regression equation that models the Medical Insurance Charges (Y-Variable) against all your independent variables in the `FamInsureCo_Combined` dataframe. </b>\n",
    "\n",
    "In order to fit a linear regression model with statsmodels.api there are a few steps that need to be taken. We have demonstrated this below:\n",
    "\n",
    "<b> Don't forget to reimport the dataframes you've previously imported in Step 2 before starting these steps </b> \n",
    "\n",
    "    1. Establish two dataframes named, independent_variables and dependent_variables. The independent variables are known as explanatory variables - they help EXPLAIN what you are trying to model. Dependent Variable on the other hand is the variable of interest that you want to MODEL. In this case, the Dependent Variable is Medical Insurance Charges.\n",
    "    \n",
    "    2. Add a constant to your Independent Dataframe via the following syntax:\n",
    "    independent_variables = sm.add_constant(independent_variables). This will simply add a constant stream of 1's in a column to your dataframe. This constant is used to account for bias in the model.  \n",
    "    \n",
    "    3. Store and Fit your model with the below syntax:\n",
    "    regression_model = sm.OLS(dependent_variable,independent_variable).fit() \n",
    "    \n",
    "    4. Print the regression_model.summary() to view the Regression Statistics \n"
   ]
  },
  {
   "cell_type": "markdown",
   "metadata": {},
   "source": [
    "<h2><b style=\"color:salmon\"> Place your code here </b> </h2> "
   ]
  },
  {
   "cell_type": "code",
   "execution_count": null,
   "metadata": {},
   "outputs": [],
   "source": []
  },
  {
   "cell_type": "markdown",
   "metadata": {},
   "source": [
    "<b> What do you observe from the R Squared Value in your model? Is the model a good fit or a poor fit? </b>"
   ]
  },
  {
   "cell_type": "code",
   "execution_count": null,
   "metadata": {},
   "outputs": [],
   "source": []
  },
  {
   "cell_type": "markdown",
   "metadata": {},
   "source": [
    "### Step 16: <span style=\"color:purple\">Use OLS Regression Again</span> \n",
    "\n",
    "Now we've fitted a model using the `Faminsureco_Combined` Dataframe, where we haven't removed any outliers from our data.\n",
    "Now we know that Outliers are deviations in our dataset, greater than +- 3 standard deviations away from our population mean.\n",
    "\n",
    "Would our model potentially score higher if we *remove* these outliers from our analysis? Let's take a look and try this out!\n",
    "\n",
    "<b> i) Remove the Outliers from the `FamInsureCo_Combined` Dataframe using the Syntax we've highlighted below and store this in a new dataframe called `FamInsureCo_Combined_Dataframe_Outliers_Removed` </b>\n",
    " \n",
    "    Q1 = faminsureco_combined['medical_insurance_charges'].quantile(0.25)\n",
    "    Q3 = faminsureco_combined['medical_insurance_charges'].quantile(0.75)\n",
    "    IQR = Q3 - Q1\n",
    "    Upper_Limit = Q3 + 1.5 * IQR\n",
    "    faminsureco_combined[~(faminsureco_combined['medical_insurance_charges'] > Upper_Limit)]\n",
    "\n",
    "ii) Upon completion of this, create a regression equation that models the Medical Insurance Charges (Y-Variable) against all your independent variables in the `FamInsureCo_Combined_Dataframe_Outliers_Removed` dataframe. </b>\n",
    "\n",
    "<b> Hint: Watch out for the capitalisation; Python is case sensitive so be careful when looking at your variable names! </b>"
   ]
  },
  {
   "cell_type": "code",
   "execution_count": null,
   "metadata": {},
   "outputs": [],
   "source": []
  },
  {
   "cell_type": "markdown",
   "metadata": {},
   "source": [
    "<h4> <b> Compare the Models you've created and observe the R Squared displayed for each model - which model seems better and why? Put your thoughts down below.  </b> If you're not sure how to answer this, you should reference the resource <a href = https://blog.minitab.com/en/adventures-in-statistics-2/regression-analysis-how-do-i-interpret-r-squared-and-assess-the-goodness-of-fit> here </a> for a more detailed explanation.\n",
    "\n"
   ]
  },
  {
   "cell_type": "markdown",
   "metadata": {},
   "source": [
    "     "
   ]
  },
  {
   "cell_type": "markdown",
   "metadata": {},
   "source": [
    "### Step 17: <span style=\"color:purple\">Analysis of Coefficients </span>\n",
    "\n",
    "Great job creating those regressive equations! You've reached the final two steps of this case study!\n",
    "\n",
    "We've now identified that *one* of our regressive models has a better fit than the previous model.\n",
    "\n",
    "Using this model, we want to **extract** the co-efficients to better understand the variables that display the largest *absolute* rate of change with respect to `medical_insurance_charges`. We'll use the co-efficients to better assess this from an *absolute* rate of change perspective. (i.e. Which variables spike the most in relation to `medical_insurance_charges`?)\n",
    "\n",
    "<b>Please note we are not concerned about Multicolinearity and the associated impacts so we are not using standardisation here </b>\n",
    "\n",
    "<b> i) Using the .params method, extract the Coefficients from your regression_model and create a bar plot that identifies which coefficients react most strongly with respect to `medical_insurance_charges`. Which variables seem to showcase the strongest 'relationship' with respect to `medical_insurance_charges`? </b>\n",
    "\n",
    "You can use params via the following syntax:\n",
    "\n",
    "    model.params where model represents the name of the regression model you've created.\n",
    "\n",
    "We've included an example below that showcases what your chart should look like upon completion of this exercise. \n",
    "\n"
   ]
  },
  {
   "cell_type": "markdown",
   "metadata": {},
   "source": [
    "<h2><b style=\"color:salmon\"> Place your code here </b> </h2>"
   ]
  },
  {
   "cell_type": "code",
   "execution_count": null,
   "metadata": {},
   "outputs": [],
   "source": []
  },
  {
   "cell_type": "markdown",
   "metadata": {},
   "source": [
    "\n",
    "### Step 18: <span style=\"color:purple\">Validate Predictions</span> \n",
    "\n",
    "Now it's time for us to <b> validate our predictions. </b>\n",
    "    \n",
    "Once you've created a regressive_model, you can call this using the following syntax:\n",
    "\n",
    "        regressive_model.predict(independent_variables). \n",
    "        \n",
    "Extra information regarding how this works can be found <a href = https://www.statsmodels.org/stable/examples/notebooks/generated/predict.html> here </a>\n",
    "\n",
    "<b> \n",
    "i) Create a new column in the `faminsureco_combined` dataframe, called, 'Prediction'. \n",
    "    \n",
    "ii) Use the regression equation you created in the previous steps (Step 13) and apply the .predict() function to the independent variables in the `faminsureco_combined` dataset so you get a column full of your regressive predictions.\n",
    "    \n",
    "iii) Create a Dual-Axis Plot with the following axes items: <p>\n",
    "    \n",
    "        Axes One would contain: Medical Insurance Charges\n",
    "        Axes two would contain: Prediction\n",
    "</b>\n",
    "\n",
    "\n",
    "**Note:** Don't forget how to use .twinx() to help you out with the dual axis!\n",
    "\n",
    "    primary_axes = someDataframe['A'].plot()\n",
    "    second_axes = primary_axes.twinx()\n",
    "    second_axes.plot(someDataframe['B'])\n",
    "    plt.show()\n",
    "\n",
    "We've included an example below of how your chart might look once you're done!"
   ]
  },
  {
   "cell_type": "markdown",
   "metadata": {},
   "source": [
    "<h2><b style=\"color:salmon\"> Place your code here </b> </h2>"
   ]
  },
  {
   "cell_type": "code",
   "execution_count": null,
   "metadata": {},
   "outputs": [],
   "source": []
  },
  {
   "cell_type": "code",
   "execution_count": null,
   "metadata": {},
   "outputs": [],
   "source": []
  },
  {
   "cell_type": "markdown",
   "metadata": {},
   "source": [
    "<h3> You've made it to the end of this challenging case study — well done! </h3>\n",
    "\n",
    "You've learnt to perform a number of things in Python that you weren't familiar with previously.\n",
    "\n",
    "You've been able to:\n",
    "\n",
    "<li> Create Scatter Plots, Line Plots, Histograms, Bar Charts and Box Plots </li>\n",
    "<li> Understand Descriptive Statistics from the .describe() functions </li>\n",
    "<li> How to Detect and Remove Outliers from your Dataset </li>\n",
    "<li> How to Subset and Filter your Dataframes </li>\n",
    "<li> How to use Dual Axes to Plot Multiple Variables on different axes </li>\n",
    "<li> How to interpret Correlation Coefficients and Heatmaps </li>\n",
    "<li> How to convert Categorical Columns into Numerical Outputs </li>\n",
    "<li> How to create and assess the goodness of fit for your Linear Regression Models </li>\n",
    "\n",
    "Well done! This is just the start of your foundation in Python as you grow more proficient in practicing against datasets both big and small.\n",
    "\n",
    "Keep up the fantastic work and as always - if you have any questions, don't hesitate to reach out to the community, your mentor, or #slack channel for extra support! If you need, you can also reach out to the course creator, Chris Hui, via: chris.hui.sb.1990@gmail.com! \n",
    "\n",
    "<h3> Keep up the amazing work! </h3>\n"
   ]
  }
 ],
 "metadata": {
  "celltoolbar": "Raw Cell Format",
  "kernelspec": {
   "display_name": "Python 3",
   "language": "python",
   "name": "python3"
  },
  "language_info": {
   "codemirror_mode": {
    "name": "ipython",
    "version": 3
   },
   "file_extension": ".py",
   "mimetype": "text/x-python",
   "name": "python",
   "nbconvert_exporter": "python",
   "pygments_lexer": "ipython3",
   "version": "3.11.4"
  }
 },
 "nbformat": 4,
 "nbformat_minor": 4
}
